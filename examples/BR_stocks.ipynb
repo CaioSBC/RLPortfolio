{
 "cells": [
  {
   "cell_type": "code",
   "execution_count": 1,
   "metadata": {},
   "outputs": [],
   "source": [
    "import pandas as pd\n",
    "\n",
    "from rl_portfolio.environment import PortfolioOptimizationEnv\n",
    "from rl_portfolio.algorithm import PolicyGradient\n",
    "\n",
    "import logging\n",
    "logging.getLogger('matplotlib.font_manager').disabled = True"
   ]
  },
  {
   "cell_type": "code",
   "execution_count": 2,
   "metadata": {},
   "outputs": [
    {
     "data": {
      "text/html": [
       "<div>\n",
       "<style scoped>\n",
       "    .dataframe tbody tr th:only-of-type {\n",
       "        vertical-align: middle;\n",
       "    }\n",
       "\n",
       "    .dataframe tbody tr th {\n",
       "        vertical-align: top;\n",
       "    }\n",
       "\n",
       "    .dataframe thead th {\n",
       "        text-align: right;\n",
       "    }\n",
       "</style>\n",
       "<table border=\"1\" class=\"dataframe\">\n",
       "  <thead>\n",
       "    <tr style=\"text-align: right;\">\n",
       "      <th></th>\n",
       "      <th>day</th>\n",
       "      <th>open</th>\n",
       "      <th>high</th>\n",
       "      <th>low</th>\n",
       "      <th>close</th>\n",
       "      <th>volume</th>\n",
       "      <th>tic</th>\n",
       "    </tr>\n",
       "  </thead>\n",
       "  <tbody>\n",
       "    <tr>\n",
       "      <th>2</th>\n",
       "      <td>0</td>\n",
       "      <td>0.424556</td>\n",
       "      <td>0.424768</td>\n",
       "      <td>0.429769</td>\n",
       "      <td>0.442628</td>\n",
       "      <td>0.445018</td>\n",
       "      <td>AAPL</td>\n",
       "    </tr>\n",
       "    <tr>\n",
       "      <th>185</th>\n",
       "      <td>0</td>\n",
       "      <td>0.444677</td>\n",
       "      <td>0.447059</td>\n",
       "      <td>0.444616</td>\n",
       "      <td>0.441948</td>\n",
       "      <td>0.458681</td>\n",
       "      <td>CMCSA</td>\n",
       "    </tr>\n",
       "    <tr>\n",
       "      <th>215</th>\n",
       "      <td>0</td>\n",
       "      <td>0.524828</td>\n",
       "      <td>0.529260</td>\n",
       "      <td>0.524642</td>\n",
       "      <td>0.515638</td>\n",
       "      <td>0.539094</td>\n",
       "      <td>CSCO</td>\n",
       "    </tr>\n",
       "    <tr>\n",
       "      <th>310</th>\n",
       "      <td>0</td>\n",
       "      <td>0.145431</td>\n",
       "      <td>0.146840</td>\n",
       "      <td>0.148497</td>\n",
       "      <td>0.145465</td>\n",
       "      <td>0.152980</td>\n",
       "      <td>FB</td>\n",
       "    </tr>\n",
       "    <tr>\n",
       "      <th>395</th>\n",
       "      <td>0</td>\n",
       "      <td>0.429832</td>\n",
       "      <td>0.429663</td>\n",
       "      <td>0.423030</td>\n",
       "      <td>0.420449</td>\n",
       "      <td>0.442424</td>\n",
       "      <td>HBAN</td>\n",
       "    </tr>\n",
       "    <tr>\n",
       "      <th>...</th>\n",
       "      <td>...</td>\n",
       "      <td>...</td>\n",
       "      <td>...</td>\n",
       "      <td>...</td>\n",
       "      <td>...</td>\n",
       "      <td>...</td>\n",
       "      <td>...</td>\n",
       "    </tr>\n",
       "    <tr>\n",
       "      <th>1277966</th>\n",
       "      <td>1245</td>\n",
       "      <td>0.976769</td>\n",
       "      <td>0.978505</td>\n",
       "      <td>0.977960</td>\n",
       "      <td>0.980379</td>\n",
       "      <td>1.000000</td>\n",
       "      <td>MSFT</td>\n",
       "    </tr>\n",
       "    <tr>\n",
       "      <th>1277973</th>\n",
       "      <td>1245</td>\n",
       "      <td>0.854308</td>\n",
       "      <td>0.861836</td>\n",
       "      <td>0.906975</td>\n",
       "      <td>0.898504</td>\n",
       "      <td>0.865741</td>\n",
       "      <td>MU</td>\n",
       "    </tr>\n",
       "    <tr>\n",
       "      <th>1278007</th>\n",
       "      <td>1245</td>\n",
       "      <td>0.880476</td>\n",
       "      <td>0.897548</td>\n",
       "      <td>0.941012</td>\n",
       "      <td>0.947640</td>\n",
       "      <td>0.897216</td>\n",
       "      <td>NVDA</td>\n",
       "    </tr>\n",
       "    <tr>\n",
       "      <th>1278138</th>\n",
       "      <td>1245</td>\n",
       "      <td>0.984648</td>\n",
       "      <td>0.985842</td>\n",
       "      <td>0.986481</td>\n",
       "      <td>0.983441</td>\n",
       "      <td>0.995594</td>\n",
       "      <td>QQQ</td>\n",
       "    </tr>\n",
       "    <tr>\n",
       "      <th>1278384</th>\n",
       "      <td>1245</td>\n",
       "      <td>0.943107</td>\n",
       "      <td>0.929508</td>\n",
       "      <td>0.903525</td>\n",
       "      <td>0.893058</td>\n",
       "      <td>1.000000</td>\n",
       "      <td>XIV</td>\n",
       "    </tr>\n",
       "  </tbody>\n",
       "</table>\n",
       "<p>13706 rows × 7 columns</p>\n",
       "</div>"
      ],
      "text/plain": [
       "          day      open      high       low     close    volume    tic\n",
       "2           0  0.424556  0.424768  0.429769  0.442628  0.445018   AAPL\n",
       "185         0  0.444677  0.447059  0.444616  0.441948  0.458681  CMCSA\n",
       "215         0  0.524828  0.529260  0.524642  0.515638  0.539094   CSCO\n",
       "310         0  0.145431  0.146840  0.148497  0.145465  0.152980     FB\n",
       "395         0  0.429832  0.429663  0.423030  0.420449  0.442424   HBAN\n",
       "...       ...       ...       ...       ...       ...       ...    ...\n",
       "1277966  1245  0.976769  0.978505  0.977960  0.980379  1.000000   MSFT\n",
       "1277973  1245  0.854308  0.861836  0.906975  0.898504  0.865741     MU\n",
       "1278007  1245  0.880476  0.897548  0.941012  0.947640  0.897216   NVDA\n",
       "1278138  1245  0.984648  0.985842  0.986481  0.983441  0.995594    QQQ\n",
       "1278384  1245  0.943107  0.929508  0.903525  0.893058  1.000000    XIV\n",
       "\n",
       "[13706 rows x 7 columns]"
      ]
     },
     "execution_count": 2,
     "metadata": {},
     "output_type": "execute_result"
    }
   ],
   "source": [
    "nasdaq_temporal = pd.read_csv(\"../../Temporal_Relational_Stock_Ranking_FinRL/temporal_data/NASDAQ_temporal_data.csv\")\n",
    "nasdaq_temporal = nasdaq_temporal[nasdaq_temporal[\"tic\"].isin([\"AAPL\", \"CMCSA\", \"CSCO\", \"FB\", \"HBAN\", \"INTC\", \"MSFT\", \"MU\", \"NVDA\", \"QQQ\", \"XIV\"])]\n",
    "nasdaq_temporal"
   ]
  },
  {
   "cell_type": "code",
   "execution_count": 3,
   "metadata": {},
   "outputs": [],
   "source": [
    "df_portfolio = nasdaq_temporal[[\"day\", \"tic\", \"close\", \"high\", \"low\"]]\n",
    "\n",
    "df_portfolio_train = df_portfolio[df_portfolio[\"day\"] < 979]\n",
    "df_portfolio_test = df_portfolio[df_portfolio[\"day\"] >= 979]\n",
    "\n",
    "environment_train = PortfolioOptimizationEnv(\n",
    "        df_portfolio_train,\n",
    "        initial_amount=100000,\n",
    "        comission_fee_pct=0.0025,\n",
    "        time_window=50,\n",
    "        features=[\"close\", \"high\", \"low\"],\n",
    "        time_column=\"day\",\n",
    "        normalize_df=None, # dataframe is already normalized\n",
    "    )\n",
    "\n",
    "environment_test = PortfolioOptimizationEnv(\n",
    "        df_portfolio_test,\n",
    "        initial_amount=100000,\n",
    "        comission_fee_pct=0.0025,\n",
    "        time_window=50,\n",
    "        features=[\"close\", \"high\", \"low\"],\n",
    "        time_column=\"day\",\n",
    "        normalize_df=None, # dataframe is already normalized\n",
    "    )"
   ]
  },
  {
   "cell_type": "code",
   "execution_count": 4,
   "metadata": {},
   "outputs": [],
   "source": [
    "algo = PolicyGradient(environment_train, lr=1e-2)"
   ]
  },
  {
   "cell_type": "code",
   "execution_count": 5,
   "metadata": {},
   "outputs": [
    {
     "name": "stderr",
     "output_type": "stream",
     "text": [
      "  0%|          | 0/5 [00:00<?, ?it/s]"
     ]
    },
    {
     "name": "stdout",
     "output_type": "stream",
     "text": [
      "=================================\n",
      "Initial portfolio value:100000\n",
      "Final portfolio value: 203053.265625\n",
      "Final accumulative portfolio value: 2.03053265625\n",
      "Maximum DrawDown: -0.1689873721313916\n",
      "Sharpe ratio: 6.129909855148527\n",
      "=================================\n"
     ]
    },
    {
     "name": "stderr",
     "output_type": "stream",
     "text": [
      " 20%|██        | 1/5 [00:11<00:44, 11.20s/it]"
     ]
    },
    {
     "name": "stdout",
     "output_type": "stream",
     "text": [
      "=================================\n",
      "Initial portfolio value:100000\n",
      "Final portfolio value: 260508.96875\n",
      "Final accumulative portfolio value: 2.6050896875\n",
      "Maximum DrawDown: -0.19174279564850172\n",
      "Sharpe ratio: 6.808822174720029\n",
      "=================================\n"
     ]
    },
    {
     "name": "stderr",
     "output_type": "stream",
     "text": [
      " 40%|████      | 2/5 [00:20<00:29,  9.94s/it]"
     ]
    },
    {
     "name": "stdout",
     "output_type": "stream",
     "text": [
      "=================================\n",
      "Initial portfolio value:100000\n",
      "Final portfolio value: 402675.46875\n",
      "Final accumulative portfolio value: 4.0267546875\n",
      "Maximum DrawDown: -0.20920909884831962\n",
      "Sharpe ratio: 7.9709666385649465\n",
      "=================================\n"
     ]
    },
    {
     "name": "stderr",
     "output_type": "stream",
     "text": [
      " 60%|██████    | 3/5 [00:29<00:19,  9.52s/it]"
     ]
    },
    {
     "name": "stdout",
     "output_type": "stream",
     "text": [
      "=================================\n",
      "Initial portfolio value:100000\n",
      "Final portfolio value: 529905.3125\n",
      "Final accumulative portfolio value: 5.299053125\n",
      "Maximum DrawDown: -0.18021231515991798\n",
      "Sharpe ratio: 8.963026266306697\n",
      "=================================\n"
     ]
    },
    {
     "name": "stderr",
     "output_type": "stream",
     "text": [
      " 80%|████████  | 4/5 [00:38<00:09,  9.40s/it]"
     ]
    },
    {
     "name": "stdout",
     "output_type": "stream",
     "text": [
      "=================================\n",
      "Initial portfolio value:100000\n",
      "Final portfolio value: 528939.3125\n",
      "Final accumulative portfolio value: 5.289393125\n",
      "Maximum DrawDown: -0.16447378935409696\n",
      "Sharpe ratio: 8.882370561396387\n",
      "=================================\n"
     ]
    },
    {
     "name": "stderr",
     "output_type": "stream",
     "text": [
      "100%|██████████| 5/5 [00:47<00:00,  9.52s/it]\n"
     ]
    }
   ],
   "source": [
    "algo.train(episodes=5)"
   ]
  },
  {
   "cell_type": "code",
   "execution_count": null,
   "metadata": {},
   "outputs": [],
   "source": []
  }
 ],
 "metadata": {
  "kernelspec": {
   "display_name": "finrl",
   "language": "python",
   "name": "python3"
  },
  "language_info": {
   "codemirror_mode": {
    "name": "ipython",
    "version": 3
   },
   "file_extension": ".py",
   "mimetype": "text/x-python",
   "name": "python",
   "nbconvert_exporter": "python",
   "pygments_lexer": "ipython3",
   "version": "3.10.13"
  }
 },
 "nbformat": 4,
 "nbformat_minor": 2
}
